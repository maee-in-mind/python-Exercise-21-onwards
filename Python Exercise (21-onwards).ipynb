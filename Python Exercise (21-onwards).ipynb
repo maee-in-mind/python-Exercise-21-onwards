{
 "cells": [
  {
   "cell_type": "code",
   "execution_count": 13,
   "metadata": {},
   "outputs": [
    {
     "name": "stdout",
     "output_type": "stream",
     "text": [
      "enter number bet (1-100)10\n",
      "you guessed too low number\n",
      "Lets check how many guess your computer required to guess 10 \n",
      "match found\n",
      "In 16 attempts\n"
     ]
    }
   ],
   "source": [
    "#Exercise 25\n",
    "#we’ve written a program that “knows” a number and asks a user to guess it.\n",
    "\n",
    "#This time, we’re going to do exactly the opposite. You, the user, will have \n",
    "#in your head a number between 0 and 100. The program will guess a number, \n",
    "#and you, the user, will say whether it is too high, too low, or your number.\n",
    "\n",
    "#At the end of this exchange, your program should print out how many guesses \n",
    "#it took to get your number.\n",
    "import random as random\n",
    "num=int(input(\"enter number bet (1-100)\"))\n",
    "def low_high():\n",
    "    if num<50:\n",
    "        print(\"you guessed too low number\")\n",
    "    elif num>50:\n",
    "        print(\"you guessed too high number\")\n",
    "    print(\"Lets check how many guess your computer required to guess {} \".format(num))\n",
    "def r_guess():\n",
    "    c_guess=random.randint(1,100)\n",
    "    return c_guess\n",
    "count=0\n",
    "low_high()\n",
    "for i in range(100):\n",
    "    count+=1\n",
    "    if(num==r_guess()):\n",
    "        print(\"match found\")\n",
    "        print(\"In {} attempts\".format(count))\n",
    "        break\n",
    "        "
   ]
  },
  {
   "cell_type": "code",
   "execution_count": 16,
   "metadata": {},
   "outputs": [
    {
     "name": "stdout",
     "output_type": "stream",
     "text": [
      "enter number1 =200\n",
      "enter number2 =9309\n",
      "enter number3 =76\n",
      "largest number is 9309 \n"
     ]
    }
   ],
   "source": [
    "#Exercise 28 \n",
    "#Implement a function that takes as input three variables,\n",
    "#and returns the largest of the three. Do this without using \n",
    "#the Python max() function!\n",
    "\n",
    "#The goal of this exercise is to think about some internals\n",
    "#that Python normally takes care of for us. \n",
    "\n",
    "num1=int(input(\"enter number1 =\"))\n",
    "num2=int(input(\"enter number2 =\"))\n",
    "num3=int(input(\"enter number3 =\"))\n",
    "lst=[]\n",
    "lst.append(num1)\n",
    "lst.append(num2)\n",
    "lst.append(num3)\n",
    "lst.sort()\n",
    "print(\"largest number is {} \".format(lst[-1]))\n"
   ]
  },
  {
   "cell_type": "code",
   "execution_count": 26,
   "metadata": {},
   "outputs": [
    {
     "name": "stdout",
     "output_type": "stream",
     "text": [
      "Maee in mind..!\n"
     ]
    }
   ],
   "source": [
    "#Exercise 30\n",
    "import random\n",
    "file = 'Sample_file.txt'\n",
    "with open(file,'r') as f:\n",
    "    lines = f.readlines()\n",
    "    word = random.choice(lines)\n",
    "    print(word)\n"
   ]
  },
  {
   "cell_type": "code",
   "execution_count": 27,
   "metadata": {},
   "outputs": [
    {
     "name": "stdout",
     "output_type": "stream",
     "text": [
      "enter text to saveI love python programming\n",
      "enter file name to savePython\n"
     ]
    }
   ],
   "source": [
    "#Exercise 21\n",
    "text=input(\"enter text to save\")\n",
    "name=input(\"enter file name to save\")\n",
    "open_file = open(name+'.txt', 'w')\n",
    "open_file.write(text)\n",
    "open_file.close()"
   ]
  },
  {
   "cell_type": "code",
   "execution_count": 28,
   "metadata": {},
   "outputs": [
    {
     "name": "stdout",
     "output_type": "stream",
     "text": [
      "I love python programming\n"
     ]
    }
   ],
   "source": [
    "#Exercise 22\n",
    "with open('Python.txt', 'r') as open_file:\n",
    "    line = open_file.readline()\n",
    "    while line:\n",
    "        print(line)\n",
    "        line = open_file.readline()\n"
   ]
  },
  {
   "cell_type": "code",
   "execution_count": 29,
   "metadata": {},
   "outputs": [],
   "source": [
    "#Exercise 31 and Exercise 32\n",
    "#solution is in hangman.py file"
   ]
  },
  {
   "cell_type": "code",
   "execution_count": 41,
   "metadata": {
    "scrolled": true
   },
   "outputs": [
    {
     "name": "stdout",
     "output_type": "stream",
     "text": [
      "Welcome to the birthday dictionary. We know the birthdays of:dict_keys(['Nitesh', 'Amol', 'Ratnadeep', 'Prashant', 'Shambhu'])\n",
      "Who's birthday do you want to look up?Nitesh\n",
      "Nitesh's birthday is 01.01.1111\n"
     ]
    }
   ],
   "source": [
    "#Exercise 33\n",
    "#For this exercise, we will keep track of when our friend’s birthdays are, and be able to find that information based on their name.\n",
    "#Create a dictionary (in your file) of names and birthdays. When you run your program it should ask the user to enter a name, and \n",
    "#return the birthday of that person back to them.\n",
    "\n",
    "birthday_dict={\"Nitesh\":\"01.01.1111\",\"Amol\":\"02.02.2222\",\"Ratnadeep\":\"03.03.3333\",\"Prashant\":\"04.04.4444\",\"Shambhu\":\"05.05.5555\"}\n",
    "print(\"Welcome to the birthday dictionary. We know the birthdays of:{}\".format(birthday_dict.keys()))\n",
    "find_birthday=input(\"Who's birthday do you want to look up?\")\n",
    "birthday=birthday_dict[find_birthday]\n",
    "print(\"{}'s birthday is {}\".format(find_birthday, birthday))\n"
   ]
  },
  {
   "cell_type": "code",
   "execution_count": null,
   "metadata": {},
   "outputs": [],
   "source": []
  }
 ],
 "metadata": {
  "kernelspec": {
   "display_name": "Python 3",
   "language": "python",
   "name": "python3"
  },
  "language_info": {
   "codemirror_mode": {
    "name": "ipython",
    "version": 3
   },
   "file_extension": ".py",
   "mimetype": "text/x-python",
   "name": "python",
   "nbconvert_exporter": "python",
   "pygments_lexer": "ipython3",
   "version": "3.7.2"
  }
 },
 "nbformat": 4,
 "nbformat_minor": 2
}
